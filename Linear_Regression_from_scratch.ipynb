{
 "cells": [
  {
   "cell_type": "markdown",
   "id": "5e7d22b7",
   "metadata": {},
   "source": [
    "# Linear_Regression_from_scratch\n",
    "\n",
    "Linear Regression is a supervised Machine Learning algorithm it is also considered to be the most simple type of predictive Machine Learning algorithm. There is some basic assumption that we make for linear regression to work, such as it is important that the relation between the independent and the target variable is linear in nature else our model will end up giving irrelevant results.\n"
   ]
  },
  {
   "cell_type": "markdown",
   "id": "777cede0",
   "metadata": {},
   "source": [
    "### import  python modules : \n",
    "need to import the python packages that we will use "
   ]
  },
  {
   "cell_type": "code",
   "execution_count": 2,
   "id": "3e1f4a9c",
   "metadata": {},
   "outputs": [],
   "source": [
    "import random\n",
    "import numpy as np\n",
    "import matplotlib.pyplot as plt\n",
    "from statistics import mean\n",
    "from matplotlib import style\n",
    "style.use('fivethirtyeight')"
   ]
  },
  {
   "cell_type": "markdown",
   "id": "f7acb881",
   "metadata": {},
   "source": [
    "### create random data set : \n",
    "create random data set with controllable parameters \n",
    "hw: number of samples \n",
    "variance: from -variance to + variance\n",
    "step : between samples \n",
    "correlation: \"pos\" for positive correlation, and \"Neg\" for Negative correlation "
   ]
  },
  {
   "cell_type": "code",
   "execution_count": 3,
   "id": "985ee4ce",
   "metadata": {},
   "outputs": [],
   "source": [
    "def create_data_set(hw,variance,step=2,correlation=False):\n",
    "    val =1\n",
    "    ys=[]\n",
    "    for i in range(hw):\n",
    "        ys.append(val+random.randrange(-variance,variance))\n",
    "        if correlation == 'pos':\n",
    "            val+=step\n",
    "        elif correlation == 'neg':\n",
    "            val-=step\n",
    "    xs = [i for i in range(len(ys))]\n",
    "                  \n",
    "    return np.array(xs,dtype=np.float64),np.array(ys,dtype=np.float64)"
   ]
  },
  {
   "cell_type": "markdown",
   "id": "2e5dfc49",
   "metadata": {},
   "source": [
    "### plot created data : \n",
    "plot created data use matplotlib : Let create data set consist of 40 samples with variance = 20 ,step =2 and \"pos\" correlation "
   ]
  },
  {
   "cell_type": "code",
   "execution_count": 10,
   "id": "ab720c19",
   "metadata": {
    "scrolled": true
   },
   "outputs": [
    {
     "data": {
      "text/plain": [
       "Text(0, 0.5, 'ys')"
      ]
     },
     "execution_count": 10,
     "metadata": {},
     "output_type": "execute_result"
    },
    {
     "data": {
      "image/png": "[encoded data removed]",
      "text/plain": [
       "<Figure size 504x288 with 1 Axes>"
      ]
     },
     "metadata": {},
     "output_type": "display_data"
    }
   ],
   "source": [
    "xs,ys = create_data_set(40,20,2,'pos')\n",
    "plt.figure(figsize=(7,4))\n",
    "plt.scatter(xs,ys)\n",
    "plt.xlabel('xs')\n",
    "plt.ylabel('ys')"
   ]
  },
  {
   "cell_type": "markdown",
   "id": "236029c8",
   "metadata": {},
   "source": [
    "### regression equation  :  \n",
    "\n",
    "The simplest form of the regression equation with one dependent and one independent variable.\n",
    "\n",
    "y = m * x + b\n",
    "\n",
    "y = estimated dependent value.\n",
    "\n",
    "b = constant , bias or intercept.\n",
    "\n",
    "m = regression coefficient or slope.\n",
    "\n",
    "x = value of the independent variable"
   ]
  },
  {
   "cell_type": "code",
   "execution_count": 13,
   "id": "d31219ed",
   "metadata": {},
   "outputs": [],
   "source": [
    "def slop_and_intercept(xs,ys):\n",
    "    m = ((mean(xs)*mean(ys)) - (mean(xs*ys)))/((mean(xs)**2) - (mean(xs**2)))\n",
    "    b = mean(ys) - m*mean(xs)\n",
    "    return m,b"
   ]
  },
  {
   "cell_type": "code",
   "execution_count": 14,
   "id": "bcfae4d5",
   "metadata": {
    "scrolled": true
   },
   "outputs": [
    {
     "name": "stdout",
     "output_type": "stream",
     "text": [
      "slop=1.998311444652908\n",
      "intercept=-3.3670731707317074\n"
     ]
    }
   ],
   "source": [
    "# the m and b for the xs and ys that we were created before\n",
    "m,b = slop_and_intercept(xs,ys)\n",
    "print(\"slop={}\".format(m))\n",
    "print(\"intercept={}\".format(b))"
   ]
  },
  {
   "cell_type": "markdown",
   "id": "f7d942f4",
   "metadata": {},
   "source": [
    "### plot xs and ys with regression line  : \n",
    "plot xs and ys with regression line(y = m * x + b) "
   ]
  },
  {
   "cell_type": "code",
   "execution_count": 15,
   "id": "036f7c79",
   "metadata": {
    "scrolled": false
   },
   "outputs": [
    {
     "data": {
      "text/plain": [
       "Text(0, 0.5, 'ys')"
      ]
     },
     "execution_count": 15,
     "metadata": {},
     "output_type": "execute_result"
    },
    {
     "data": {
      "image/png": "[encoded data removed]",
      "text/plain": [
       "<Figure size 504x288 with 1 Axes>"
      ]
     },
     "metadata": {},
     "output_type": "display_data"
    }
   ],
   "source": [
    "# need to calculate y_reg according to m and b \n",
    "y_reg = [m*x+b for x in xs]\n",
    "xs,ys = create_data_set(40,20,2,'pos')\n",
    "plt.figure(figsize=(7,4))\n",
    "plt.scatter(xs,ys)\n",
    "plt.plot(xs,y_reg,c='g')\n",
    "plt.xlabel('xs')\n",
    "plt.ylabel('ys')"
   ]
  },
  {
   "cell_type": "markdown",
   "id": "f3e531d8",
   "metadata": {},
   "source": [
    "### coefficient of determination\n",
    "\n",
    "\n",
    "The coefficient of determination (denoted by R^2) is a key output of regression analysis a measure that assesses the ability of a model to predict or explain an outcome in the linear regression setting. It is interpreted as the proportion of the variance in the dependent variable that is predictable from the independent variable.\n",
    "\n",
    "The coefficient of determination is the square of the correlation (r) between predicted y scores and  the predictor variable x \n",
    "\n",
    "a high R^2 value(between 0 and 1) indicates that the model is a good fit for the data\n",
    "\n",
    "The coefficient of determination can be found with the following formula: R2 = MSS/TSS = (TSS − RSS)/TSS = (1-RSS/TSS) \n",
    "\n",
    "MSS is the model sum of squares : which is the sum of the squares of the prediction from the linear regression minus the mean for that variable\n",
    "\n",
    "TSS is the total sum of squares: which is the sum of the squares of the measurements minus their mean \n",
    "\n",
    "RSS is the residual sum of squares: which is the sum of the squares of the measurements minus the prediction from the linear regression.\n",
    "\n"
   ]
  },
  {
   "cell_type": "code",
   "execution_count": 16,
   "id": "049436b8",
   "metadata": {},
   "outputs": [],
   "source": [
    "# first create function to calculate squared errors: \n",
    "def squared_error(y_orig,y_line):\n",
    "    return sum((y_orig-y_line)**2)\n",
    "# second create function to calculate coefficient of determination \n",
    "def coefficient_of_determination(y_orig,y_line):\n",
    "    y_mean_line= [mean(y_orig) for y in y_orig]\n",
    "    RSS = squared_error(y_orig,y_line)\n",
    "    TSS = squared_error(y_orig,y_mean_line)\n",
    "    return  1 - (RSS/TSS)"
   ]
  },
  {
   "cell_type": "code",
   "execution_count": 17,
   "id": "c367ebc3",
   "metadata": {},
   "outputs": [
    {
     "name": "stdout",
     "output_type": "stream",
     "text": [
      "0.8076989366173496\n"
     ]
    }
   ],
   "source": [
    "# now we will use ys and y_reg to calculate coefficient_of_determination \n",
    "R_squared  = coefficient_of_determination(ys,y_reg)\n",
    "print(R_squared)"
   ]
  },
  {
   "cell_type": "code",
   "execution_count": 18,
   "id": "cfc73ffc",
   "metadata": {},
   "outputs": [
    {
     "data": {
      "text/plain": [
       "96.5484990619137"
      ]
     },
     "execution_count": 18,
     "metadata": {},
     "output_type": "execute_result"
    }
   ],
   "source": [
    "# if we need to predict y (for x = 50) based on above linear regression model(mx+b)\n",
    "x = 50\n",
    "predicted_y = m*x +b \n",
    "predicted_y"
   ]
  },
  {
   "cell_type": "code",
   "execution_count": 19,
   "id": "54d21bda",
   "metadata": {},
   "outputs": [
    {
     "data": {
      "text/plain": [
       "Text(0, 0.5, 'ys')"
      ]
     },
     "execution_count": 19,
     "metadata": {},
     "output_type": "execute_result"
    },
    {
     "data": {
      "image/png": "[encoded data removed]",
      "text/plain": [
       "<Figure size 504x288 with 1 Axes>"
      ]
     },
     "metadata": {},
     "output_type": "display_data"
    }
   ],
   "source": [
    "# plot predicted_y\n",
    "plt.figure(figsize=(7,4))\n",
    "plt.scatter(xs,ys,alpha =0.4,edgecolor='k')\n",
    "plt.scatter(x,predicted_y,c='r',s=100)\n",
    "plt.plot(xs,y_reg,c='g',alpha=0.3)\n",
    "plt.xlabel('xs')\n",
    "plt.ylabel('ys')"
   ]
  },
  {
   "cell_type": "markdown",
   "id": "ba1db57d",
   "metadata": {},
   "source": [
    "### how linear regression work with non-Linear Data: \n",
    "\n",
    "we will use the same previous steps to estimate the Linear regression by creating new datasets with high variance and calculte R^2 "
   ]
  },
  {
   "cell_type": "code",
   "execution_count": 20,
   "id": "60750530",
   "metadata": {
    "scrolled": false
   },
   "outputs": [
    {
     "data": {
      "text/plain": [
       "Text(0, 0.5, 'ys')"
      ]
     },
     "execution_count": 20,
     "metadata": {},
     "output_type": "execute_result"
    },
    {
     "data": {
      "image/png": "[encoded data removed]",
      "text/plain": [
       "<Figure size 504x288 with 1 Axes>"
      ]
     },
     "metadata": {},
     "output_type": "display_data"
    }
   ],
   "source": [
    "# create data set same number of samples with variance = 80 \n",
    "xs,ys = create_data_set(40,80,2,'pos')\n",
    "plt.figure(figsize=(7,4))\n",
    "plt.scatter(xs,ys)\n",
    "plt.xlabel('xs')\n",
    "plt.ylabel('ys')"
   ]
  },
  {
   "cell_type": "code",
   "execution_count": 22,
   "id": "7f698c7c",
   "metadata": {},
   "outputs": [],
   "source": [
    "# find m and b \n",
    "m,b = slop_and_intercept(xs,ys)"
   ]
  },
  {
   "cell_type": "code",
   "execution_count": 23,
   "id": "dff667d9",
   "metadata": {
    "scrolled": false
   },
   "outputs": [
    {
     "data": {
      "text/plain": [
       "Text(0, 0.5, 'ys')"
      ]
     },
     "execution_count": 23,
     "metadata": {},
     "output_type": "execute_result"
    },
    {
     "data": {
      "image/png": "[encoded data removed]",
      "text/plain": [
       "<Figure size 504x288 with 1 Axes>"
      ]
     },
     "metadata": {},
     "output_type": "display_data"
    }
   ],
   "source": [
    "# find y_reg and plot regression line \n",
    "y_reg = [m*x+b for x in xs]\n",
    "plt.figure(figsize=(7,4))\n",
    "plt.scatter(xs,ys)\n",
    "plt.plot(xs,y_reg,c='g')\n",
    "plt.xlabel('xs')\n",
    "plt.ylabel('ys')"
   ]
  },
  {
   "cell_type": "code",
   "execution_count": 24,
   "id": "d9433031",
   "metadata": {},
   "outputs": [
    {
     "data": {
      "text/plain": [
       "0.28518365904476317"
      ]
     },
     "execution_count": 24,
     "metadata": {},
     "output_type": "execute_result"
    }
   ],
   "source": [
    "# Calculate R_squared\n",
    "R_squared  = coefficient_of_determination(ys,y_reg)\n",
    "R_squared"
   ]
  },
  {
   "cell_type": "markdown",
   "id": "e0d09c11",
   "metadata": {},
   "source": [
    "the result shows that the R_squared low when we used non linear data set "
   ]
  }
 ],
 "metadata": {
  "kernelspec": {
   "display_name": "Python 3 (ipykernel)",
   "language": "python",
   "name": "python3"
  },
  "language_info": {
   "codemirror_mode": {
    "name": "ipython",
    "version": 3
   },
   "file_extension": ".py",
   "mimetype": "text/x-python",
   "name": "python",
   "nbconvert_exporter": "python",
   "pygments_lexer": "ipython3",
   "version": "3.9.6"
  }
 },
 "nbformat": 4,
 "nbformat_minor": 5
}
